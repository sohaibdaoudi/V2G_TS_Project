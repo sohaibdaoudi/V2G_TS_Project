{
 "cells": [
  {
   "cell_type": "code",
   "execution_count": 1,
   "metadata": {},
   "outputs": [
    {
     "name": "stdout",
     "output_type": "stream",
     "text": [
      "[ 0.9   0.9   0.9   0.9   0.9   0.9  -1.    0.8   0.8   0.9   0.9   0.9\n",
      "  0.9   0.9   0.9   0.9  -1.    0.8   0.8   0.9   0.9   0.9   0.9   0.9\n",
      "  0.69  0.68  0.85  0.72  0.73  0.69  0.74 -1.    0.79  0.81  0.76  0.63\n",
      "  0.83  0.9   0.89  0.74  0.62  0.8   0.66  0.71  0.8   0.75  0.66  0.83]\n"
     ]
    }
   ],
   "source": [
    "import numpy as np\n",
    "\n",
    "# Set the size of the dataset\n",
    "size = 17545\n",
    "\n",
    "# Define probabilities\n",
    "prob_neg_one = 0.08  # 8% chance of -1 appearing\n",
    "prob_soc = 0.92  # 92% chance of a value between 0.6 and 0.9\n",
    "\n",
    "# Start sequence\n",
    "soc_values = np.array([0.9, 0.9, 0.9, 0.9, 0.9, 0.9, -1, 0.8, 0.8, 0.9, 0.9, 0.9, 0.9, 0.9, 0.9, 0.9, -1, 0.8, 0.8, 0.9, 0.9, 0.9, 0.9, 0.9])\n",
    "\n",
    "# Generate remaining values\n",
    "remaining_size = size - len(soc_values)\n",
    "values = np.random.choice([-1, 0], size=remaining_size, p=[prob_neg_one, prob_soc])\n",
    "random_soc_values = np.where(values == -1, -1, np.round(np.random.uniform(0.6, 0.9, remaining_size), 2))\n",
    "\n",
    "# Concatenate\n",
    "soc_values = np.concatenate((soc_values, random_soc_values))\n",
    "\n",
    "# Print example output\n",
    "print(soc_values[:48])  # Display first 25 values"
   ]
  },
  {
   "cell_type": "code",
   "execution_count": 2,
   "metadata": {},
   "outputs": [
    {
     "data": {
      "text/plain": [
       "17545"
      ]
     },
     "execution_count": 2,
     "metadata": {},
     "output_type": "execute_result"
    }
   ],
   "source": [
    "len(soc_values)"
   ]
  },
  {
   "cell_type": "code",
   "execution_count": null,
   "metadata": {},
   "outputs": [
    {
     "name": "stdout",
     "output_type": "stream",
     "text": [
      "Plug State: [1 1 1 1 1 0 1 1 0 1 1 1 1 1 1 0 1 1 0 1]\n"
     ]
    }
   ],
   "source": [
    "# Start sequence for Plug State\n",
    "plug_state = np.array([1, 1, 1, 1, 1, 1, 0, 0, 1, 1, 1, 1, 1, 1, 1, 1, 0, 0, 1, 1, 1, 1, 1, 1])\n",
    "\n",
    "# Generate remaining Plug State values\n",
    "remaining_plug_size = size - len(plug_state)\n",
    "random_plug_state = np.random.choice([0, 1], size=remaining_plug_size, p=[0.3, 0.7])  # 70% plugged in, 30% not\n",
    "\n",
    "# Concatenate Plug State values\n",
    "plug_state = np.concatenate((plug_state, random_plug_state))\n",
    "\n",
    "# Print example output\n",
    "print(\"Plug State:\", plug_state[100:120])  # Display first 25 Plug State values\n"
   ]
  },
  {
   "cell_type": "code",
   "execution_count": 6,
   "metadata": {},
   "outputs": [
    {
     "name": "stdout",
     "output_type": "stream",
     "text": [
      "    soc_1  plug_state_1\n",
      "0    0.90             1\n",
      "1    0.90             1\n",
      "2    0.90             1\n",
      "3    0.90             1\n",
      "4    0.90             1\n",
      "5    0.90             1\n",
      "6   -1.00             0\n",
      "7    0.80             0\n",
      "8    0.80             1\n",
      "9    0.90             1\n",
      "10   0.90             1\n",
      "11   0.90             1\n",
      "12   0.90             1\n",
      "13   0.90             1\n",
      "14   0.90             1\n",
      "15   0.90             1\n",
      "16  -1.00             0\n",
      "17   0.80             0\n",
      "18   0.80             1\n",
      "19   0.90             1\n",
      "20   0.90             1\n",
      "21   0.90             1\n",
      "22   0.90             1\n",
      "23   0.90             1\n",
      "24   0.69             1\n"
     ]
    }
   ],
   "source": [
    "import pandas as pd\n",
    "\n",
    "# Create DataFrame\n",
    "df = pd.DataFrame({'soc_1': soc_values, 'plug_state_1': plug_state})\n",
    "\n",
    "# Print example output\n",
    "print(df.head(25))  # Display first 25 rows\n"
   ]
  },
  {
   "cell_type": "code",
   "execution_count": 7,
   "metadata": {},
   "outputs": [],
   "source": [
    "df.to_excel(\"profile_1.xlsx\", index=False)"
   ]
  }
 ],
 "metadata": {
  "kernelspec": {
   "display_name": "Python 3",
   "language": "python",
   "name": "python3"
  },
  "language_info": {
   "codemirror_mode": {
    "name": "ipython",
    "version": 3
   },
   "file_extension": ".py",
   "mimetype": "text/x-python",
   "name": "python",
   "nbconvert_exporter": "python",
   "pygments_lexer": "ipython3",
   "version": "3.12.4"
  }
 },
 "nbformat": 4,
 "nbformat_minor": 2
}
